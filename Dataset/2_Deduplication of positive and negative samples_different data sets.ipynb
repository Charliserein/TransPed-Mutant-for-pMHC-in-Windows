{
 "cells": [
  {
   "cell_type": "code",
   "execution_count": 1,
   "metadata": {
    "collapsed": true
   },
   "outputs": [],
   "source": [
    "import math\n",
    "from sklearn import metrics\n",
    "from sklearn import preprocessing\n",
    "import matplotlib.pyplot as plt\n",
    "import numpy as np\n",
    "import pandas as pd\n",
    "import re\n",
    "import time\n",
    "import datetime\n",
    "import random\n",
    "random.seed(1234)\n",
    "\n",
    "from scipy import interp\n",
    "import warnings\n",
    "warnings.filterwarnings(\"ignore\")\n",
    "\n",
    "from collections import Counter\n",
    "from functools import reduce\n",
    "from tqdm import tqdm, trange\n",
    "from copy import deepcopy\n",
    "\n",
    "from sklearn.metrics import confusion_matrix\n",
    "from sklearn.metrics import roc_auc_score, auc\n",
    "from sklearn.metrics import precision_recall_fscore_support\n",
    "from sklearn.metrics import precision_recall_curve\n",
    "from sklearn.metrics import classification_report\n",
    "from sklearn.utils import class_weight"
   ]
  },
  {
   "cell_type": "code",
   "execution_count": 2,
   "metadata": {
    "collapsed": true
   },
   "outputs": [],
   "source": [
    "import math\n",
    "import matplotlib.pyplot as plt\n",
    "import numpy as np\n",
    "import pandas as pd\n",
    "\n",
    "import time\n",
    "import random\n",
    "from scipy import interp\n",
    "import warnings\n",
    "warnings.filterwarnings(\"ignore\")\n",
    "\n",
    "from collections import Counter\n",
    "from tqdm import tqdm\n",
    "import os"
   ]
  },
  {
   "cell_type": "code",
   "execution_count": 3,
   "metadata": {
    "collapsed": true
   },
   "outputs": [],
   "source": [
    "import math\n",
    "import torch\n",
    "import numpy as np\n",
    "import torch.nn as nn\n",
    "import torch.optim as optim\n",
    "import torch.utils.data as Data\n",
    "os.environ['CUDA_VISIBLE_DEVICES'] = '1'"
   ]
  },
  {
   "cell_type": "code",
   "execution_count": 4,
   "metadata": {
    "collapsed": true
   },
   "outputs": [],
   "source": [
    "seed = 19961231\n",
    "random.seed(seed)\n",
    "np.random.seed(seed)\n",
    "torch.manual_seed(seed)\n",
    "torch.cuda.manual_seed(seed)\n",
    "torch.cuda.manual_seed_all(seed)\n",
    "torch.backends.cudnn.benchmark = False\n",
    "torch.backends.cudnn.deterministic = True"
   ]
  },
  {
   "cell_type": "code",
   "execution_count": 5,
   "metadata": {
    "collapsed": true
   },
   "outputs": [],
   "source": [
    "def read_data(data_type, hla_sequence):\n",
    "    pos_neg_data_pd = pd.read_csv('/home/chujunyi/5_ZY_MHC/Anthem/Dataset/' + data_type + '_pos_neg_data.csv', index_col = 0).drop_duplicates().reset_index(drop = True)\n",
    "    print('# Samples = ', len(pos_neg_data_pd))\n",
    "    pos_neg_data_pd = pd.merge(pos_neg_data_pd, hla_sequence, on = 'HLA')\n",
    "    print('After delete unknown sequence HLA: # Samples = ', len(pos_neg_data_pd))\n",
    "    return pos_neg_data_pd"
   ]
  },
  {
   "cell_type": "code",
   "execution_count": 7,
   "metadata": {},
   "outputs": [
    {
     "name": "stdout",
     "output_type": "stream",
     "text": [
      "# Samples =  2178971\n",
      "After delete unknown sequence HLA: # Samples =  2156796\n",
      "# Samples =  174437\n",
      "After delete unknown sequence HLA: # Samples =  172580\n",
      "# Samples =  104209\n",
      "After delete unknown sequence HLA: # Samples =  104209\n"
     ]
    }
   ],
   "source": [
    "hla_sequence = pd.read_csv('/home/chujunyi/5_ZY_MHC/data/common_hla_sequence.csv')\n",
    "train_set = read_data('train', hla_sequence)\n",
    "independent_set = read_data('evaluation', hla_sequence)\n",
    "external_set = read_data('experimental', hla_sequence)"
   ]
  },
  {
   "cell_type": "markdown",
   "metadata": {},
   "source": [
    "# 去掉多余的负样本"
   ]
  },
  {
   "cell_type": "code",
   "execution_count": 8,
   "metadata": {
    "collapsed": true,
    "scrolled": true
   },
   "outputs": [],
   "source": [
    "def Remove_excess_negative_samples(data, train_set, type_ = 'train', savepath = True):\n",
    "    idx = []\n",
    "    for hla in tqdm(set(data.HLA)):\n",
    "        for length in range(8,15):\n",
    "            if type_ == 'train':\n",
    "                for fold in [0.0, 1.0, 2.0, 3.0, 4.0]:\n",
    "                    try:\n",
    "                        idx.append(data[data.HLA == hla][data.length == length][data.neg_fold == fold].index[0])\n",
    "                        continue\n",
    "                    except:\n",
    "                        continue\n",
    "            else:\n",
    "                try:\n",
    "                    idx.append(data[data.HLA == hla][data.length == length][data.label == 0].index[0])\n",
    "                    continue\n",
    "                except:\n",
    "                    continue\n",
    "                        \n",
    "    print('Remove num = ', len(idx))\n",
    "    print('Original: ', Counter(data.label))\n",
    "    data.drop(index = idx, axis = 0, inplace = True)\n",
    "    data.reset_index(drop = True, inplace = True)\n",
    "    print('After remove: ', Counter(data.label))\n",
    "    \n",
    "    # 去掉independent和external中在train set中的数据\n",
    "    if type_ != 'train':\n",
    "        copy_train_set = deepcopy(train_set)\n",
    "        del copy_train_set['neg_fold']\n",
    "        data = pd.concat([data, copy_train_set, copy_train_set]).drop_duplicates(['peptide', 'HLA'], keep = False).reset_index(drop = True)\n",
    "        print('After remove duplicates with train_set: ', Counter(data.label))\n",
    "        \n",
    "    if savepath:\n",
    "        data.to_csv('/home/chujunyi/5_ZY_MHC/Anthem/Dataset/{}_set.csv'.format(type_))\n",
    "    return data"
   ]
  },
  {
   "cell_type": "code",
   "execution_count": 9,
   "metadata": {},
   "outputs": [
    {
     "name": "stderr",
     "output_type": "stream",
     "text": [
      "100%|██████████| 112/112 [14:20<00:00,  7.69s/it]\n"
     ]
    },
    {
     "name": "stdout",
     "output_type": "stream",
     "text": [
      "Remove num =  1800\n",
      "Original:  Counter({0: 1797630, 1: 359166})\n",
      "After remove:  Counter({0: 1795830, 1: 359166})\n"
     ]
    },
    {
     "name": "stderr",
     "output_type": "stream",
     "text": [
      "100%|██████████| 112/112 [00:15<00:00,  7.23it/s]\n"
     ]
    },
    {
     "name": "stdout",
     "output_type": "stream",
     "text": [
      "Remove num =  360\n",
      "Original:  Counter({0: 86470, 1: 86110})\n",
      "After remove:  Counter({1: 86110, 0: 86110})\n",
      "After remove duplicates with train_set:  Counter({1: 85876, 0: 85562})\n"
     ]
    },
    {
     "name": "stderr",
     "output_type": "stream",
     "text": [
      "100%|██████████| 5/5 [00:00<00:00, 10.40it/s]\n"
     ]
    },
    {
     "name": "stdout",
     "output_type": "stream",
     "text": [
      "Remove num =  35\n",
      "Original:  Counter({0: 52122, 1: 52087})\n",
      "After remove:  Counter({1: 52087, 0: 52087})\n",
      "After remove duplicates with train_set:  Counter({1: 51984, 0: 51881})\n"
     ]
    }
   ],
   "source": [
    "train_set = Remove_excess_negative_samples(train_set, train_set, 'train', )\n",
    "independent_set = Remove_excess_negative_samples(independent_set, train_set, 'independent')\n",
    "external_set = Remove_excess_negative_samples(external_set, train_set, 'external')"
   ]
  },
  {
   "cell_type": "markdown",
   "metadata": {},
   "source": [
    "# 去掉independent和external在训练集中出现过的样本"
   ]
  },
  {
   "cell_type": "code",
   "execution_count": 10,
   "metadata": {
    "collapsed": true,
    "scrolled": true
   },
   "outputs": [],
   "source": [
    "def train_set_cv_fold_index(train_set):\n",
    "    train_set_cv_idx_dict, test_set_cv_idx_dict = dict(), dict()   \n",
    "    for hla in tqdm(set(train_set.HLA)):\n",
    "        for length in range(8,15):\n",
    "\n",
    "            temp_hla_length = train_set[train_set.HLA == hla][train_set.length == length]\n",
    "            if len(temp_hla_length) != 0:\n",
    "                temp_pos_hla_length_idx = temp_hla_length[temp_hla_length.label == 1].index\n",
    "\n",
    "                test_num_hla_length = round(len(temp_pos_hla_length_idx) / 5)\n",
    "                train_num_hla_length = len(temp_pos_hla_length_idx) - test_num_hla_length\n",
    "                print('Positive {} - Length{}: # All = {} | # Train = {} | # Test = {}'.format(hla, length, len(temp_pos_hla_length_idx), train_num_hla_length, test_num_hla_length))\n",
    "\n",
    "                pos_fold = []\n",
    "                for i in range(5):       \n",
    "                    if i != 4:\n",
    "                        pos_fold.append(temp_pos_hla_length_idx[i * test_num_hla_length : (i+1) * test_num_hla_length])\n",
    "                    else:\n",
    "                        pos_fold.append(temp_pos_hla_length_idx[i * test_num_hla_length : ])\n",
    "\n",
    "                train_fold, test_fold = [], []\n",
    "                for fold in [0.0, 1.0, 2.0, 3.0, 4.0]:\n",
    "                    i = int(fold)\n",
    "                    temp_neg_hla_length_idx = temp_hla_length[temp_hla_length.label == 0][temp_hla_length.neg_fold == fold].index\n",
    "\n",
    "                    cv_train_fold = [0, 1, 2, 3, 4]\n",
    "                    cv_train_fold.remove(i)\n",
    "\n",
    "                    pos_test_per_fold = pos_fold[i]\n",
    "                    neg_test_per_fold = temp_neg_hla_length_idx[:len(pos_test_per_fold)]\n",
    "                    pos_train_per_fold = []\n",
    "                    for f in cv_train_fold:\n",
    "                        pos_train_per_fold.extend(list(pos_fold[f]))\n",
    "                    neg_train_per_fold = temp_neg_hla_length_idx[len(pos_test_per_fold) : len(pos_test_per_fold)+len(pos_train_per_fold)]\n",
    "\n",
    "                    train_set_cv_idx_dict.setdefault(i, [])\n",
    "                    test_set_cv_idx_dict.setdefault(i, [])\n",
    "                    train_set_cv_idx_dict[i].extend(pos_train_per_fold)\n",
    "                    train_set_cv_idx_dict[i].extend(neg_train_per_fold)\n",
    "                    test_set_cv_idx_dict[i].extend(pos_test_per_fold)\n",
    "                    test_set_cv_idx_dict[i].extend(neg_test_per_fold)\n",
    "                    \n",
    "    for fold in range(5):\n",
    "        print(Counter(train_set.iloc[train_set_cv_idx_dict[fold]].label), Counter(train_set.iloc[test_set_cv_idx_dict[fold]].label))\n",
    "\n",
    "    return train_set_cv_idx_dict, test_set_cv_idx_dict"
   ]
  },
  {
   "cell_type": "code",
   "execution_count": 11,
   "metadata": {
    "collapsed": true
   },
   "outputs": [],
   "source": [
    "def save_trainset_cvdata(train_set, train_data_cv_idx_dict, val_data_cv_idx_dict, fold, savepath = True):\n",
    "    train_fold = train_set.loc[train_data_cv_idx_dict[fold]].sample(frac = 1.0).reset_index(drop = True)\n",
    "    train_fold.drop(columns = ['neg_fold'], inplace = True)\n",
    "    if savepath:\n",
    "        train_fold.to_csv('/home/chujunyi/5_ZY_MHC/Anthem/Dataset/train_data_fold{}.csv'.format(fold))\n",
    "        \n",
    "    val_fold = train_set.loc[val_data_cv_idx_dict[0]].sample(frac = 1.0).reset_index(drop = True)\n",
    "    val_fold.drop(columns = ['neg_fold'], inplace = True)\n",
    "    if savepath:\n",
    "        val_fold.to_csv('/home/chujunyi/5_ZY_MHC/Anthem/Dataset/val_data_fold{}.csv'.format(fold))"
   ]
  },
  {
   "cell_type": "code",
   "execution_count": 12,
   "metadata": {
    "scrolled": true
   },
   "outputs": [
    {
     "name": "stderr",
     "output_type": "stream",
     "text": [
      "\r",
      "  0%|          | 0/112 [00:00<?, ?it/s]"
     ]
    },
    {
     "name": "stdout",
     "output_type": "stream",
     "text": [
      "Positive HLA-B*27:01 - Length9: # All = 1512 | # Train = 1210 | # Test = 302\n",
      "Positive HLA-B*27:01 - Length10: # All = 751 | # Train = 601 | # Test = 150\n",
      "Positive HLA-B*27:01 - Length11: # All = 440 | # Train = 352 | # Test = 88\n",
      "Positive HLA-B*27:01 - Length12: # All = 151 | # Train = 121 | # Test = 30\n",
      "Positive HLA-B*27:01 - Length13: # All = 71 | # Train = 57 | # Test = 14\n"
     ]
    },
    {
     "name": "stderr",
     "output_type": "stream",
     "text": [
      "\r",
      "  1%|          | 1/112 [00:01<02:52,  1.56s/it]"
     ]
    },
    {
     "name": "stdout",
     "output_type": "stream",
     "text": [
      "Positive HLA-A*24:06 - Length9: # All = 92 | # Train = 74 | # Test = 18\n",
      "Positive HLA-A*24:06 - Length10: # All = 76 | # Train = 61 | # Test = 15\n",
      "Positive HLA-A*24:06 - Length11: # All = 74 | # Train = 59 | # Test = 15\n"
     ]
    },
    {
     "name": "stderr",
     "output_type": "stream",
     "text": [
      "\r",
      "  2%|▏         | 2/112 [00:03<02:50,  1.55s/it]"
     ]
    },
    {
     "name": "stdout",
     "output_type": "stream",
     "text": [
      "Positive HLA-B*58:01 - Length8: # All = 305 | # Train = 244 | # Test = 61\n",
      "Positive HLA-B*58:01 - Length9: # All = 2707 | # Train = 2166 | # Test = 541\n",
      "Positive HLA-B*58:01 - Length10: # All = 789 | # Train = 631 | # Test = 158\n",
      "Positive HLA-B*58:01 - Length11: # All = 412 | # Train = 330 | # Test = 82\n",
      "Positive HLA-B*58:01 - Length12: # All = 139 | # Train = 111 | # Test = 28\n",
      "Positive HLA-B*58:01 - Length13: # All = 72 | # Train = 58 | # Test = 14\n"
     ]
    },
    {
     "name": "stderr",
     "output_type": "stream",
     "text": [
      "\r",
      "  3%|▎         | 3/112 [00:04<02:50,  1.56s/it]"
     ]
    },
    {
     "name": "stdout",
     "output_type": "stream",
     "text": [
      "Positive HLA-B*51:08 - Length8: # All = 68 | # Train = 54 | # Test = 14\n",
      "Positive HLA-B*51:08 - Length9: # All = 388 | # Train = 310 | # Test = 78\n"
     ]
    },
    {
     "name": "stderr",
     "output_type": "stream",
     "text": [
      "\r",
      "  4%|▎         | 4/112 [00:06<02:46,  1.54s/it]"
     ]
    },
    {
     "name": "stdout",
     "output_type": "stream",
     "text": [
      "Positive HLA-C*06:02 - Length8: # All = 136 | # Train = 109 | # Test = 27\n",
      "Positive HLA-C*06:02 - Length9: # All = 4421 | # Train = 3537 | # Test = 884\n",
      "Positive HLA-C*06:02 - Length10: # All = 388 | # Train = 310 | # Test = 78\n",
      "Positive HLA-C*06:02 - Length11: # All = 139 | # Train = 111 | # Test = 28\n",
      "Positive HLA-C*06:02 - Length12: # All = 100 | # Train = 80 | # Test = 20\n",
      "Positive HLA-C*06:02 - Length13: # All = 119 | # Train = 95 | # Test = 24\n"
     ]
    },
    {
     "name": "stderr",
     "output_type": "stream",
     "text": [
      "\r",
      "  4%|▍         | 5/112 [00:07<02:47,  1.56s/it]"
     ]
    },
    {
     "name": "stdout",
     "output_type": "stream",
     "text": [
      "Positive HLA-C*06:02 - Length14: # All = 144 | # Train = 115 | # Test = 29\n",
      "Positive HLA-A*03:01 - Length8: # All = 227 | # Train = 182 | # Test = 45\n",
      "Positive HLA-A*03:01 - Length9: # All = 7340 | # Train = 5872 | # Test = 1468\n",
      "Positive HLA-A*03:01 - Length10: # All = 1984 | # Train = 1587 | # Test = 397\n",
      "Positive HLA-A*03:01 - Length11: # All = 658 | # Train = 526 | # Test = 132\n",
      "Positive HLA-A*03:01 - Length12: # All = 345 | # Train = 276 | # Test = 69\n",
      "Positive HLA-A*03:01 - Length13: # All = 69 | # Train = 55 | # Test = 14\n"
     ]
    },
    {
     "name": "stderr",
     "output_type": "stream",
     "text": [
      "\r",
      "  5%|▌         | 6/112 [00:09<02:47,  1.58s/it]"
     ]
    },
    {
     "name": "stdout",
     "output_type": "stream",
     "text": [
      "Positive HLA-B*13:02 - Length8: # All = 56 | # Train = 45 | # Test = 11\n",
      "Positive HLA-B*13:02 - Length9: # All = 2412 | # Train = 1930 | # Test = 482\n",
      "Positive HLA-B*13:02 - Length10: # All = 82 | # Train = 66 | # Test = 16\n"
     ]
    },
    {
     "name": "stderr",
     "output_type": "stream",
     "text": [
      "\r",
      "  6%|▋         | 7/112 [00:10<02:43,  1.56s/it]"
     ]
    },
    {
     "name": "stdout",
     "output_type": "stream",
     "text": [
      "Positive HLA-B*27:03 - Length9: # All = 404 | # Train = 323 | # Test = 81\n",
      "Positive HLA-B*27:03 - Length10: # All = 184 | # Train = 147 | # Test = 37\n",
      "Positive HLA-B*27:03 - Length11: # All = 144 | # Train = 115 | # Test = 29\n",
      "Positive HLA-B*27:03 - Length12: # All = 59 | # Train = 47 | # Test = 12\n"
     ]
    },
    {
     "name": "stderr",
     "output_type": "stream",
     "text": [
      "\r",
      "  7%|▋         | 8/112 [00:12<02:44,  1.58s/it]"
     ]
    },
    {
     "name": "stdout",
     "output_type": "stream",
     "text": [
      "Positive HLA-B*15:03 - Length9: # All = 327 | # Train = 262 | # Test = 65\n"
     ]
    },
    {
     "name": "stderr",
     "output_type": "stream",
     "text": [
      "\r",
      "  8%|▊         | 9/112 [00:14<02:39,  1.55s/it]"
     ]
    },
    {
     "name": "stdout",
     "output_type": "stream",
     "text": [
      "Positive HLA-B*46:01 - Length8: # All = 78 | # Train = 62 | # Test = 16\n",
      "Positive HLA-B*46:01 - Length9: # All = 1193 | # Train = 954 | # Test = 239\n",
      "Positive HLA-B*46:01 - Length10: # All = 302 | # Train = 242 | # Test = 60\n",
      "Positive HLA-B*46:01 - Length11: # All = 69 | # Train = 55 | # Test = 14\n"
     ]
    },
    {
     "name": "stderr",
     "output_type": "stream",
     "text": [
      "\r",
      "  9%|▉         | 10/112 [00:15<02:37,  1.54s/it]"
     ]
    },
    {
     "name": "stdout",
     "output_type": "stream",
     "text": [
      "Positive HLA-B*44:02 - Length8: # All = 116 | # Train = 93 | # Test = 23\n",
      "Positive HLA-B*44:02 - Length9: # All = 4394 | # Train = 3515 | # Test = 879\n",
      "Positive HLA-B*44:02 - Length10: # All = 1646 | # Train = 1317 | # Test = 329\n",
      "Positive HLA-B*44:02 - Length11: # All = 746 | # Train = 597 | # Test = 149\n",
      "Positive HLA-B*44:02 - Length12: # All = 257 | # Train = 206 | # Test = 51\n",
      "Positive HLA-B*44:02 - Length13: # All = 82 | # Train = 66 | # Test = 16\n"
     ]
    },
    {
     "name": "stderr",
     "output_type": "stream",
     "text": [
      "\r",
      " 10%|▉         | 11/112 [00:17<02:38,  1.57s/it]"
     ]
    },
    {
     "name": "stdout",
     "output_type": "stream",
     "text": [
      "Positive HLA-B*57:03 - Length8: # All = 226 | # Train = 181 | # Test = 45\n",
      "Positive HLA-B*57:03 - Length9: # All = 2167 | # Train = 1734 | # Test = 433\n",
      "Positive HLA-B*57:03 - Length10: # All = 868 | # Train = 694 | # Test = 174\n",
      "Positive HLA-B*57:03 - Length11: # All = 667 | # Train = 534 | # Test = 133\n",
      "Positive HLA-B*57:03 - Length12: # All = 144 | # Train = 115 | # Test = 29\n",
      "Positive HLA-B*57:03 - Length13: # All = 76 | # Train = 61 | # Test = 15\n"
     ]
    },
    {
     "name": "stderr",
     "output_type": "stream",
     "text": [
      "\r",
      " 11%|█         | 12/112 [00:18<02:37,  1.57s/it]"
     ]
    },
    {
     "name": "stdout",
     "output_type": "stream",
     "text": [
      "Positive HLA-A*68:02 - Length9: # All = 3396 | # Train = 2717 | # Test = 679\n",
      "Positive HLA-A*68:02 - Length10: # All = 1209 | # Train = 967 | # Test = 242\n",
      "Positive HLA-A*68:02 - Length11: # All = 277 | # Train = 222 | # Test = 55\n",
      "Positive HLA-A*68:02 - Length12: # All = 151 | # Train = 121 | # Test = 30\n",
      "Positive HLA-A*68:02 - Length13: # All = 89 | # Train = 71 | # Test = 18\n"
     ]
    },
    {
     "name": "stderr",
     "output_type": "stream",
     "text": [
      "\r",
      " 12%|█▏        | 13/112 [00:20<02:36,  1.58s/it]"
     ]
    },
    {
     "name": "stdout",
     "output_type": "stream",
     "text": [
      "Positive HLA-A*68:02 - Length14: # All = 70 | # Train = 56 | # Test = 14\n",
      "Positive HLA-A*32:15 - Length9: # All = 58 | # Train = 46 | # Test = 12\n"
     ]
    },
    {
     "name": "stderr",
     "output_type": "stream",
     "text": [
      "\r",
      " 12%|█▎        | 14/112 [00:21<02:32,  1.55s/it]"
     ]
    },
    {
     "name": "stdout",
     "output_type": "stream",
     "text": [
      "Positive HLA-A*29:02 - Length8: # All = 159 | # Train = 127 | # Test = 32\n",
      "Positive HLA-A*29:02 - Length9: # All = 4100 | # Train = 3280 | # Test = 820\n",
      "Positive HLA-A*29:02 - Length10: # All = 978 | # Train = 782 | # Test = 196\n",
      "Positive HLA-A*29:02 - Length11: # All = 375 | # Train = 300 | # Test = 75\n",
      "Positive HLA-A*29:02 - Length12: # All = 128 | # Train = 102 | # Test = 26\n",
      "Positive HLA-A*29:02 - Length13: # All = 148 | # Train = 118 | # Test = 30\n"
     ]
    },
    {
     "name": "stderr",
     "output_type": "stream",
     "text": [
      "\r",
      " 13%|█▎        | 15/112 [00:23<02:31,  1.56s/it]"
     ]
    },
    {
     "name": "stdout",
     "output_type": "stream",
     "text": [
      "Positive HLA-B*08:01 - Length8: # All = 924 | # Train = 739 | # Test = 185\n",
      "Positive HLA-B*08:01 - Length9: # All = 4221 | # Train = 3377 | # Test = 844\n",
      "Positive HLA-B*08:01 - Length10: # All = 274 | # Train = 219 | # Test = 55\n",
      "Positive HLA-B*08:01 - Length11: # All = 131 | # Train = 105 | # Test = 26\n",
      "Positive HLA-B*08:01 - Length12: # All = 145 | # Train = 116 | # Test = 29\n"
     ]
    },
    {
     "name": "stderr",
     "output_type": "stream",
     "text": [
      "\r",
      " 14%|█▍        | 16/112 [00:24<02:30,  1.56s/it]"
     ]
    },
    {
     "name": "stdout",
     "output_type": "stream",
     "text": [
      "Positive HLA-C*15:02 - Length8: # All = 152 | # Train = 122 | # Test = 30\n",
      "Positive HLA-C*15:02 - Length9: # All = 1441 | # Train = 1153 | # Test = 288\n"
     ]
    },
    {
     "name": "stderr",
     "output_type": "stream",
     "text": [
      "\r",
      " 15%|█▌        | 17/112 [00:26<02:29,  1.58s/it]"
     ]
    },
    {
     "name": "stdout",
     "output_type": "stream",
     "text": [
      "Positive HLA-A*02:06 - Length9: # All = 3193 | # Train = 2554 | # Test = 639\n",
      "Positive HLA-A*02:06 - Length10: # All = 849 | # Train = 679 | # Test = 170\n"
     ]
    },
    {
     "name": "stderr",
     "output_type": "stream",
     "text": [
      "\r",
      " 16%|█▌        | 18/112 [00:28<02:25,  1.55s/it]"
     ]
    },
    {
     "name": "stdout",
     "output_type": "stream",
     "text": [
      "Positive HLA-A*25:01 - Length9: # All = 96 | # Train = 77 | # Test = 19\n"
     ]
    },
    {
     "name": "stderr",
     "output_type": "stream",
     "text": [
      "\r",
      " 17%|█▋        | 19/112 [00:29<02:21,  1.52s/it]"
     ]
    },
    {
     "name": "stdout",
     "output_type": "stream",
     "text": [
      "Positive HLA-B*15:17 - Length9: # All = 393 | # Train = 314 | # Test = 79\n"
     ]
    },
    {
     "name": "stderr",
     "output_type": "stream",
     "text": [
      "\r",
      " 18%|█▊        | 20/112 [00:31<02:21,  1.54s/it]"
     ]
    },
    {
     "name": "stdout",
     "output_type": "stream",
     "text": [
      "Positive HLA-C*12:03 - Length8: # All = 117 | # Train = 94 | # Test = 23\n",
      "Positive HLA-C*12:03 - Length9: # All = 1500 | # Train = 1200 | # Test = 300\n"
     ]
    },
    {
     "name": "stderr",
     "output_type": "stream",
     "text": [
      "\r",
      " 19%|█▉        | 21/112 [00:32<02:18,  1.52s/it]"
     ]
    },
    {
     "name": "stdout",
     "output_type": "stream",
     "text": [
      "Positive HLA-A*68:01 - Length9: # All = 5125 | # Train = 4100 | # Test = 1025\n",
      "Positive HLA-A*68:01 - Length10: # All = 1437 | # Train = 1150 | # Test = 287\n",
      "Positive HLA-A*68:01 - Length11: # All = 213 | # Train = 170 | # Test = 43\n",
      "Positive HLA-A*68:01 - Length12: # All = 62 | # Train = 50 | # Test = 12\n"
     ]
    },
    {
     "name": "stderr",
     "output_type": "stream",
     "text": [
      "\r",
      " 20%|█▉        | 22/112 [00:34<02:17,  1.53s/it]"
     ]
    },
    {
     "name": "stdout",
     "output_type": "stream",
     "text": [
      "Positive HLA-B*27:20 - Length9: # All = 73 | # Train = 58 | # Test = 15\n"
     ]
    },
    {
     "name": "stderr",
     "output_type": "stream",
     "text": [
      "\r",
      " 21%|██        | 23/112 [00:35<02:17,  1.55s/it]"
     ]
    },
    {
     "name": "stdout",
     "output_type": "stream",
     "text": [
      "Positive HLA-A*02:19 - Length9: # All = 198 | # Train = 158 | # Test = 40\n"
     ]
    },
    {
     "name": "stderr",
     "output_type": "stream",
     "text": [
      "\r",
      " 21%|██▏       | 24/112 [00:37<02:13,  1.52s/it]"
     ]
    },
    {
     "name": "stdout",
     "output_type": "stream",
     "text": [
      "Positive HLA-B*15:09 - Length9: # All = 82 | # Train = 66 | # Test = 16\n"
     ]
    },
    {
     "name": "stderr",
     "output_type": "stream",
     "text": [
      "\r",
      " 22%|██▏       | 25/112 [00:38<02:10,  1.50s/it]"
     ]
    },
    {
     "name": "stdout",
     "output_type": "stream",
     "text": [
      "Positive HLA-A*24:02 - Length8: # All = 175 | # Train = 140 | # Test = 35\n",
      "Positive HLA-A*24:02 - Length9: # All = 5379 | # Train = 4303 | # Test = 1076\n",
      "Positive HLA-A*24:02 - Length10: # All = 1372 | # Train = 1098 | # Test = 274\n",
      "Positive HLA-A*24:02 - Length11: # All = 740 | # Train = 592 | # Test = 148\n",
      "Positive HLA-A*24:02 - Length12: # All = 245 | # Train = 196 | # Test = 49\n"
     ]
    },
    {
     "name": "stderr",
     "output_type": "stream",
     "text": [
      "\r",
      " 23%|██▎       | 26/112 [00:40<02:11,  1.52s/it]"
     ]
    },
    {
     "name": "stdout",
     "output_type": "stream",
     "text": [
      "Positive HLA-A*24:02 - Length13: # All = 156 | # Train = 125 | # Test = 31\n",
      "Positive HLA-A*24:02 - Length14: # All = 64 | # Train = 51 | # Test = 13\n",
      "Positive HLA-C*17:01 - Length8: # All = 96 | # Train = 77 | # Test = 19\n",
      "Positive HLA-C*17:01 - Length9: # All = 335 | # Train = 268 | # Test = 67\n"
     ]
    },
    {
     "name": "stderr",
     "output_type": "stream",
     "text": [
      "\r",
      " 24%|██▍       | 27/112 [00:41<02:11,  1.54s/it]"
     ]
    },
    {
     "name": "stdout",
     "output_type": "stream",
     "text": [
      "Positive HLA-B*49:01 - Length8: # All = 510 | # Train = 408 | # Test = 102\n",
      "Positive HLA-B*49:01 - Length9: # All = 2944 | # Train = 2355 | # Test = 589\n",
      "Positive HLA-B*49:01 - Length10: # All = 424 | # Train = 339 | # Test = 85\n",
      "Positive HLA-B*49:01 - Length11: # All = 89 | # Train = 71 | # Test = 18\n"
     ]
    },
    {
     "name": "stderr",
     "output_type": "stream",
     "text": [
      "\r",
      " 25%|██▌       | 28/112 [00:43<02:08,  1.53s/it]"
     ]
    },
    {
     "name": "stdout",
     "output_type": "stream",
     "text": [
      "Positive HLA-B*15:01 - Length8: # All = 445 | # Train = 356 | # Test = 89\n",
      "Positive HLA-B*15:01 - Length9: # All = 9542 | # Train = 7634 | # Test = 1908\n",
      "Positive HLA-B*15:01 - Length10: # All = 2297 | # Train = 1838 | # Test = 459\n",
      "Positive HLA-B*15:01 - Length11: # All = 892 | # Train = 714 | # Test = 178\n",
      "Positive HLA-B*15:01 - Length12: # All = 306 | # Train = 245 | # Test = 61\n",
      "Positive HLA-B*15:01 - Length13: # All = 200 | # Train = 160 | # Test = 40\n"
     ]
    },
    {
     "name": "stderr",
     "output_type": "stream",
     "text": [
      "\r",
      " 26%|██▌       | 29/112 [00:44<02:09,  1.56s/it]"
     ]
    },
    {
     "name": "stdout",
     "output_type": "stream",
     "text": [
      "Positive HLA-B*15:01 - Length14: # All = 126 | # Train = 101 | # Test = 25\n",
      "Positive HLA-B*48:01 - Length9: # All = 94 | # Train = 75 | # Test = 19\n"
     ]
    },
    {
     "name": "stderr",
     "output_type": "stream",
     "text": [
      "\r",
      " 27%|██▋       | 30/112 [00:46<02:06,  1.54s/it]"
     ]
    },
    {
     "name": "stdout",
     "output_type": "stream",
     "text": [
      "Positive HLA-A*30:01 - Length9: # All = 1230 | # Train = 984 | # Test = 246\n",
      "Positive HLA-A*30:01 - Length10: # All = 156 | # Train = 125 | # Test = 31\n"
     ]
    },
    {
     "name": "stderr",
     "output_type": "stream",
     "text": [
      "\r",
      " 28%|██▊       | 31/112 [00:48<02:06,  1.56s/it]"
     ]
    },
    {
     "name": "stdout",
     "output_type": "stream",
     "text": [
      "Positive HLA-A*02:03 - Length9: # All = 2595 | # Train = 2076 | # Test = 519\n",
      "Positive HLA-A*02:03 - Length10: # All = 1277 | # Train = 1022 | # Test = 255\n",
      "Positive HLA-A*02:03 - Length11: # All = 101 | # Train = 81 | # Test = 20\n"
     ]
    },
    {
     "name": "stderr",
     "output_type": "stream",
     "text": [
      "\r",
      " 29%|██▊       | 32/112 [00:49<02:03,  1.55s/it]"
     ]
    },
    {
     "name": "stdout",
     "output_type": "stream",
     "text": [
      "Positive HLA-B*27:05 - Length8: # All = 624 | # Train = 499 | # Test = 125\n",
      "Positive HLA-B*27:05 - Length9: # All = 16084 | # Train = 12867 | # Test = 3217\n",
      "Positive HLA-B*27:05 - Length10: # All = 8011 | # Train = 6409 | # Test = 1602\n",
      "Positive HLA-B*27:05 - Length11: # All = 5424 | # Train = 4339 | # Test = 1085\n",
      "Positive HLA-B*27:05 - Length12: # All = 2990 | # Train = 2392 | # Test = 598\n",
      "Positive HLA-B*27:05 - Length13: # All = 2020 | # Train = 1616 | # Test = 404\n"
     ]
    },
    {
     "name": "stderr",
     "output_type": "stream",
     "text": [
      "\r",
      " 29%|██▉       | 33/112 [00:51<02:09,  1.64s/it]"
     ]
    },
    {
     "name": "stdout",
     "output_type": "stream",
     "text": [
      "Positive HLA-B*27:05 - Length14: # All = 1517 | # Train = 1214 | # Test = 303\n",
      "Positive HLA-B*35:01 - Length8: # All = 184 | # Train = 147 | # Test = 37\n",
      "Positive HLA-B*35:01 - Length9: # All = 6524 | # Train = 5219 | # Test = 1305\n",
      "Positive HLA-B*35:01 - Length10: # All = 1115 | # Train = 892 | # Test = 223\n",
      "Positive HLA-B*35:01 - Length11: # All = 516 | # Train = 413 | # Test = 103\n",
      "Positive HLA-B*35:01 - Length12: # All = 144 | # Train = 115 | # Test = 29\n",
      "Positive HLA-B*35:01 - Length13: # All = 66 | # Train = 53 | # Test = 13\n"
     ]
    },
    {
     "name": "stderr",
     "output_type": "stream",
     "text": [
      "\r",
      " 30%|███       | 34/112 [00:53<02:06,  1.62s/it]"
     ]
    },
    {
     "name": "stdout",
     "output_type": "stream",
     "text": [
      "Positive HLA-B*35:01 - Length14: # All = 58 | # Train = 46 | # Test = 12\n",
      "Positive HLA-A*33:01 - Length9: # All = 558 | # Train = 446 | # Test = 112\n",
      "Positive HLA-A*33:01 - Length10: # All = 521 | # Train = 417 | # Test = 104\n"
     ]
    },
    {
     "name": "stderr",
     "output_type": "stream",
     "text": [
      "\r",
      " 31%|███▏      | 35/112 [00:54<02:01,  1.58s/it]"
     ]
    },
    {
     "name": "stdout",
     "output_type": "stream",
     "text": [
      "Positive HLA-A*02:16 - Length9: # All = 152 | # Train = 122 | # Test = 30\n"
     ]
    },
    {
     "name": "stderr",
     "output_type": "stream",
     "text": [
      "\r",
      " 32%|███▏      | 36/112 [00:56<02:00,  1.58s/it]"
     ]
    },
    {
     "name": "stdout",
     "output_type": "stream",
     "text": [
      "Positive HLA-C*04:01 - Length8: # All = 628 | # Train = 502 | # Test = 126\n",
      "Positive HLA-C*04:01 - Length9: # All = 6481 | # Train = 5185 | # Test = 1296\n",
      "Positive HLA-C*04:01 - Length10: # All = 923 | # Train = 738 | # Test = 185\n",
      "Positive HLA-C*04:01 - Length11: # All = 255 | # Train = 204 | # Test = 51\n",
      "Positive HLA-C*04:01 - Length12: # All = 96 | # Train = 77 | # Test = 19\n",
      "Positive HLA-C*04:01 - Length13: # All = 87 | # Train = 70 | # Test = 17\n"
     ]
    },
    {
     "name": "stderr",
     "output_type": "stream",
     "text": [
      "\r",
      " 33%|███▎      | 37/112 [00:57<01:58,  1.58s/it]"
     ]
    },
    {
     "name": "stdout",
     "output_type": "stream",
     "text": [
      "Positive HLA-C*04:01 - Length14: # All = 72 | # Train = 58 | # Test = 14\n",
      "Positive HLA-A*32:07 - Length9: # All = 70 | # Train = 56 | # Test = 14\n"
     ]
    },
    {
     "name": "stderr",
     "output_type": "stream",
     "text": [
      "\r",
      " 34%|███▍      | 38/112 [00:59<01:54,  1.55s/it]"
     ]
    },
    {
     "name": "stdout",
     "output_type": "stream",
     "text": [
      "Positive HLA-B*40:02 - Length8: # All = 1195 | # Train = 956 | # Test = 239\n",
      "Positive HLA-B*40:02 - Length9: # All = 4125 | # Train = 3300 | # Test = 825\n",
      "Positive HLA-B*40:02 - Length10: # All = 1449 | # Train = 1159 | # Test = 290\n",
      "Positive HLA-B*40:02 - Length11: # All = 578 | # Train = 462 | # Test = 116\n",
      "Positive HLA-B*40:02 - Length12: # All = 163 | # Train = 130 | # Test = 33\n"
     ]
    },
    {
     "name": "stderr",
     "output_type": "stream",
     "text": [
      "\r",
      " 35%|███▍      | 39/112 [01:00<01:56,  1.59s/it]"
     ]
    },
    {
     "name": "stdout",
     "output_type": "stream",
     "text": [
      "Positive HLA-B*39:01 - Length8: # All = 104 | # Train = 83 | # Test = 21\n",
      "Positive HLA-B*39:01 - Length9: # All = 3532 | # Train = 2826 | # Test = 706\n",
      "Positive HLA-B*39:01 - Length10: # All = 201 | # Train = 161 | # Test = 40\n",
      "Positive HLA-B*39:01 - Length11: # All = 136 | # Train = 109 | # Test = 27\n"
     ]
    },
    {
     "name": "stderr",
     "output_type": "stream",
     "text": [
      "\r",
      " 36%|███▌      | 40/112 [01:02<01:52,  1.56s/it]"
     ]
    },
    {
     "name": "stdout",
     "output_type": "stream",
     "text": [
      "Positive HLA-B*15:11 - Length9: # All = 738 | # Train = 590 | # Test = 148\n"
     ]
    },
    {
     "name": "stderr",
     "output_type": "stream",
     "text": [
      "\r",
      " 37%|███▋      | 41/112 [01:03<01:48,  1.53s/it]"
     ]
    },
    {
     "name": "stdout",
     "output_type": "stream",
     "text": [
      "Positive HLA-B*18:03 - Length8: # All = 84 | # Train = 67 | # Test = 17\n",
      "Positive HLA-B*18:03 - Length9: # All = 128 | # Train = 102 | # Test = 26\n"
     ]
    },
    {
     "name": "stderr",
     "output_type": "stream",
     "text": [
      "\r",
      " 38%|███▊      | 42/112 [01:05<01:48,  1.55s/it]"
     ]
    },
    {
     "name": "stdout",
     "output_type": "stream",
     "text": [
      "Positive HLA-B*37:01 - Length8: # All = 484 | # Train = 387 | # Test = 97\n",
      "Positive HLA-B*37:01 - Length9: # All = 2751 | # Train = 2201 | # Test = 550\n",
      "Positive HLA-B*37:01 - Length10: # All = 320 | # Train = 256 | # Test = 64\n",
      "Positive HLA-B*37:01 - Length11: # All = 55 | # Train = 44 | # Test = 11\n"
     ]
    },
    {
     "name": "stderr",
     "output_type": "stream",
     "text": [
      "\r",
      " 38%|███▊      | 43/112 [01:06<01:46,  1.54s/it]"
     ]
    },
    {
     "name": "stdout",
     "output_type": "stream",
     "text": [
      "Positive HLA-B*56:01 - Length9: # All = 368 | # Train = 294 | # Test = 74\n",
      "Positive HLA-B*56:01 - Length10: # All = 142 | # Train = 114 | # Test = 28\n",
      "Positive HLA-B*56:01 - Length11: # All = 64 | # Train = 51 | # Test = 13\n"
     ]
    },
    {
     "name": "stderr",
     "output_type": "stream",
     "text": [
      "\r",
      " 39%|███▉      | 44/112 [01:08<01:43,  1.52s/it]"
     ]
    },
    {
     "name": "stdout",
     "output_type": "stream",
     "text": [
      "Positive HLA-C*16:01 - Length8: # All = 619 | # Train = 495 | # Test = 124\n",
      "Positive HLA-C*16:01 - Length9: # All = 2609 | # Train = 2087 | # Test = 522\n",
      "Positive HLA-C*16:01 - Length10: # All = 183 | # Train = 146 | # Test = 37\n",
      "Positive HLA-C*16:01 - Length11: # All = 53 | # Train = 42 | # Test = 11\n"
     ]
    },
    {
     "name": "stderr",
     "output_type": "stream",
     "text": [
      "\r",
      " 40%|████      | 45/112 [01:09<01:42,  1.53s/it]"
     ]
    },
    {
     "name": "stdout",
     "output_type": "stream",
     "text": [
      "Positive HLA-A*02:11 - Length9: # All = 328 | # Train = 262 | # Test = 66\n"
     ]
    },
    {
     "name": "stderr",
     "output_type": "stream",
     "text": [
      "\r",
      " 41%|████      | 46/112 [01:11<01:41,  1.53s/it]"
     ]
    },
    {
     "name": "stdout",
     "output_type": "stream",
     "text": [
      "Positive HLA-B*53:01 - Length9: # All = 420 | # Train = 336 | # Test = 84\n",
      "Positive HLA-B*53:01 - Length10: # All = 235 | # Train = 188 | # Test = 47\n"
     ]
    },
    {
     "name": "stderr",
     "output_type": "stream",
     "text": [
      "\r",
      " 42%|████▏     | 47/112 [01:12<01:38,  1.51s/it]"
     ]
    },
    {
     "name": "stdout",
     "output_type": "stream",
     "text": [
      "Positive HLA-B*27:09 - Length8: # All = 76 | # Train = 61 | # Test = 15\n",
      "Positive HLA-B*27:09 - Length9: # All = 2437 | # Train = 1950 | # Test = 487\n",
      "Positive HLA-B*27:09 - Length10: # All = 879 | # Train = 703 | # Test = 176\n",
      "Positive HLA-B*27:09 - Length11: # All = 563 | # Train = 450 | # Test = 113\n",
      "Positive HLA-B*27:09 - Length12: # All = 241 | # Train = 193 | # Test = 48\n"
     ]
    },
    {
     "name": "stderr",
     "output_type": "stream",
     "text": [
      "\r",
      " 43%|████▎     | 48/112 [01:14<01:38,  1.54s/it]"
     ]
    },
    {
     "name": "stdout",
     "output_type": "stream",
     "text": [
      "Positive HLA-B*27:09 - Length13: # All = 144 | # Train = 115 | # Test = 29\n",
      "Positive HLA-B*27:09 - Length14: # All = 100 | # Train = 80 | # Test = 20\n",
      "Positive HLA-B*27:06 - Length9: # All = 646 | # Train = 517 | # Test = 129\n",
      "Positive HLA-B*27:06 - Length10: # All = 198 | # Train = 158 | # Test = 40\n",
      "Positive HLA-B*27:06 - Length11: # All = 100 | # Train = 80 | # Test = 20\n"
     ]
    },
    {
     "name": "stderr",
     "output_type": "stream",
     "text": [
      "\r",
      " 44%|████▍     | 49/112 [01:16<01:37,  1.54s/it]"
     ]
    },
    {
     "name": "stdout",
     "output_type": "stream",
     "text": [
      "Positive HLA-A*26:01 - Length9: # All = 1554 | # Train = 1243 | # Test = 311\n",
      "Positive HLA-A*26:01 - Length10: # All = 260 | # Train = 208 | # Test = 52\n"
     ]
    },
    {
     "name": "stderr",
     "output_type": "stream",
     "text": [
      "\r",
      " 45%|████▍     | 50/112 [01:17<01:34,  1.52s/it]"
     ]
    },
    {
     "name": "stdout",
     "output_type": "stream",
     "text": [
      "Positive HLA-B*83:01 - Length9: # All = 257 | # Train = 206 | # Test = 51\n"
     ]
    },
    {
     "name": "stderr",
     "output_type": "stream",
     "text": [
      "\r",
      " 46%|████▌     | 51/112 [01:19<01:31,  1.50s/it]"
     ]
    },
    {
     "name": "stdout",
     "output_type": "stream",
     "text": [
      "Positive HLA-C*03:03 - Length8: # All = 135 | # Train = 108 | # Test = 27\n",
      "Positive HLA-C*03:03 - Length9: # All = 3789 | # Train = 3031 | # Test = 758\n",
      "Positive HLA-C*03:03 - Length10: # All = 282 | # Train = 226 | # Test = 56\n",
      "Positive HLA-C*03:03 - Length11: # All = 76 | # Train = 61 | # Test = 15\n"
     ]
    },
    {
     "name": "stderr",
     "output_type": "stream",
     "text": [
      "\r",
      " 46%|████▋     | 52/112 [01:20<01:32,  1.55s/it]"
     ]
    },
    {
     "name": "stdout",
     "output_type": "stream",
     "text": [
      "Positive HLA-B*35:03 - Length9: # All = 2930 | # Train = 2344 | # Test = 586\n",
      "Positive HLA-B*35:03 - Length10: # All = 195 | # Train = 156 | # Test = 39\n",
      "Positive HLA-B*35:03 - Length11: # All = 115 | # Train = 92 | # Test = 23\n"
     ]
    },
    {
     "name": "stderr",
     "output_type": "stream",
     "text": [
      "\r",
      " 47%|████▋     | 53/112 [01:22<01:30,  1.53s/it]"
     ]
    },
    {
     "name": "stdout",
     "output_type": "stream",
     "text": [
      "Positive HLA-A*69:01 - Length9: # All = 860 | # Train = 688 | # Test = 172\n",
      "Positive HLA-A*69:01 - Length10: # All = 97 | # Train = 78 | # Test = 19\n"
     ]
    },
    {
     "name": "stderr",
     "output_type": "stream",
     "text": [
      "\r",
      " 48%|████▊     | 54/112 [01:23<01:28,  1.52s/it]"
     ]
    },
    {
     "name": "stdout",
     "output_type": "stream",
     "text": [
      "Positive HLA-B*27:07 - Length9: # All = 880 | # Train = 704 | # Test = 176\n",
      "Positive HLA-B*27:07 - Length10: # All = 414 | # Train = 331 | # Test = 83\n",
      "Positive HLA-B*27:07 - Length11: # All = 240 | # Train = 192 | # Test = 48\n",
      "Positive HLA-B*27:07 - Length12: # All = 93 | # Train = 74 | # Test = 19\n"
     ]
    },
    {
     "name": "stderr",
     "output_type": "stream",
     "text": [
      "\r",
      " 49%|████▉     | 55/112 [01:25<01:27,  1.53s/it]"
     ]
    },
    {
     "name": "stdout",
     "output_type": "stream",
     "text": [
      "Positive HLA-B*57:01 - Length8: # All = 321 | # Train = 257 | # Test = 64\n",
      "Positive HLA-B*57:01 - Length9: # All = 4723 | # Train = 3778 | # Test = 945\n",
      "Positive HLA-B*57:01 - Length10: # All = 2457 | # Train = 1966 | # Test = 491\n",
      "Positive HLA-B*57:01 - Length11: # All = 2301 | # Train = 1841 | # Test = 460\n",
      "Positive HLA-B*57:01 - Length12: # All = 1154 | # Train = 923 | # Test = 231\n",
      "Positive HLA-B*57:01 - Length13: # All = 647 | # Train = 518 | # Test = 129\n"
     ]
    },
    {
     "name": "stderr",
     "output_type": "stream",
     "text": [
      "\r",
      " 50%|█████     | 56/112 [01:26<01:28,  1.58s/it]"
     ]
    },
    {
     "name": "stdout",
     "output_type": "stream",
     "text": [
      "Positive HLA-B*57:01 - Length14: # All = 355 | # Train = 284 | # Test = 71\n",
      "Positive HLA-A*31:01 - Length9: # All = 3247 | # Train = 2598 | # Test = 649\n",
      "Positive HLA-A*31:01 - Length10: # All = 936 | # Train = 749 | # Test = 187\n",
      "Positive HLA-A*31:01 - Length11: # All = 262 | # Train = 210 | # Test = 52\n",
      "Positive HLA-A*31:01 - Length12: # All = 97 | # Train = 78 | # Test = 19\n",
      "Positive HLA-A*31:01 - Length13: # All = 56 | # Train = 45 | # Test = 11\n"
     ]
    },
    {
     "name": "stderr",
     "output_type": "stream",
     "text": [
      "\r",
      " 51%|█████     | 57/112 [01:28<01:26,  1.57s/it]"
     ]
    },
    {
     "name": "stdout",
     "output_type": "stream",
     "text": [
      "Positive HLA-A*68:23 - Length9: # All = 64 | # Train = 51 | # Test = 13\n"
     ]
    },
    {
     "name": "stderr",
     "output_type": "stream",
     "text": [
      "\r",
      " 52%|█████▏    | 58/112 [01:29<01:22,  1.54s/it]"
     ]
    },
    {
     "name": "stdout",
     "output_type": "stream",
     "text": [
      "Positive HLA-A*24:13 - Length9: # All = 118 | # Train = 94 | # Test = 24\n"
     ]
    },
    {
     "name": "stderr",
     "output_type": "stream",
     "text": [
      "\r",
      " 53%|█████▎    | 59/112 [01:31<01:22,  1.55s/it]"
     ]
    },
    {
     "name": "stdout",
     "output_type": "stream",
     "text": [
      "Positive HLA-B*52:01 - Length8: # All = 304 | # Train = 243 | # Test = 61\n",
      "Positive HLA-B*52:01 - Length9: # All = 107 | # Train = 86 | # Test = 21\n"
     ]
    },
    {
     "name": "stderr",
     "output_type": "stream",
     "text": [
      "\r",
      " 54%|█████▎    | 60/112 [01:32<01:19,  1.52s/it]"
     ]
    },
    {
     "name": "stdout",
     "output_type": "stream",
     "text": [
      "Positive HLA-A*24:03 - Length9: # All = 308 | # Train = 246 | # Test = 62\n"
     ]
    },
    {
     "name": "stderr",
     "output_type": "stream",
     "text": [
      "\r",
      " 54%|█████▍    | 61/112 [01:34<01:16,  1.51s/it]"
     ]
    },
    {
     "name": "stdout",
     "output_type": "stream",
     "text": [
      "Positive HLA-A*02:17 - Length9: # All = 114 | # Train = 91 | # Test = 23\n",
      "Positive HLA-A*02:17 - Length10: # All = 119 | # Train = 95 | # Test = 24\n"
     ]
    },
    {
     "name": "stderr",
     "output_type": "stream",
     "text": [
      "\r",
      " 55%|█████▌    | 62/112 [01:36<01:19,  1.58s/it]"
     ]
    },
    {
     "name": "stdout",
     "output_type": "stream",
     "text": [
      "Positive HLA-B*44:03 - Length8: # All = 111 | # Train = 89 | # Test = 22\n",
      "Positive HLA-B*44:03 - Length9: # All = 3565 | # Train = 2852 | # Test = 713\n",
      "Positive HLA-B*44:03 - Length10: # All = 1453 | # Train = 1162 | # Test = 291\n",
      "Positive HLA-B*44:03 - Length11: # All = 586 | # Train = 469 | # Test = 117\n",
      "Positive HLA-B*44:03 - Length12: # All = 168 | # Train = 134 | # Test = 34\n"
     ]
    },
    {
     "name": "stderr",
     "output_type": "stream",
     "text": [
      "\r",
      " 56%|█████▋    | 63/112 [01:37<01:16,  1.57s/it]"
     ]
    },
    {
     "name": "stdout",
     "output_type": "stream",
     "text": [
      "Positive HLA-A*02:05 - Length9: # All = 1831 | # Train = 1465 | # Test = 366\n",
      "Positive HLA-A*02:05 - Length10: # All = 299 | # Train = 239 | # Test = 60\n",
      "Positive HLA-A*02:05 - Length11: # All = 68 | # Train = 54 | # Test = 14\n"
     ]
    },
    {
     "name": "stderr",
     "output_type": "stream",
     "text": [
      "\r",
      " 57%|█████▋    | 64/112 [01:39<01:14,  1.55s/it]"
     ]
    },
    {
     "name": "stdout",
     "output_type": "stream",
     "text": [
      "Positive HLA-A*02:01 - Length8: # All = 627 | # Train = 502 | # Test = 125\n",
      "Positive HLA-A*02:01 - Length9: # All = 15673 | # Train = 12538 | # Test = 3135\n",
      "Positive HLA-A*02:01 - Length10: # All = 4234 | # Train = 3387 | # Test = 847\n",
      "Positive HLA-A*02:01 - Length11: # All = 2004 | # Train = 1603 | # Test = 401\n",
      "Positive HLA-A*02:01 - Length12: # All = 912 | # Train = 730 | # Test = 182\n",
      "Positive HLA-A*02:01 - Length13: # All = 380 | # Train = 304 | # Test = 76\n"
     ]
    },
    {
     "name": "stderr",
     "output_type": "stream",
     "text": [
      "\r",
      " 58%|█████▊    | 65/112 [01:41<01:16,  1.63s/it]"
     ]
    },
    {
     "name": "stdout",
     "output_type": "stream",
     "text": [
      "Positive HLA-A*02:01 - Length14: # All = 203 | # Train = 162 | # Test = 41\n",
      "Positive HLA-A*02:12 - Length9: # All = 276 | # Train = 221 | # Test = 55\n"
     ]
    },
    {
     "name": "stderr",
     "output_type": "stream",
     "text": [
      "\r",
      " 59%|█████▉    | 66/112 [01:42<01:12,  1.57s/it]"
     ]
    },
    {
     "name": "stdout",
     "output_type": "stream",
     "text": [
      "Positive HLA-A*26:03 - Length9: # All = 66 | # Train = 53 | # Test = 13\n"
     ]
    },
    {
     "name": "stderr",
     "output_type": "stream",
     "text": [
      "\r",
      " 60%|█████▉    | 67/112 [01:43<01:09,  1.54s/it]"
     ]
    },
    {
     "name": "stdout",
     "output_type": "stream",
     "text": [
      "Positive HLA-B*15:18 - Length9: # All = 861 | # Train = 689 | # Test = 172\n"
     ]
    },
    {
     "name": "stderr",
     "output_type": "stream",
     "text": [
      "\r",
      " 61%|██████    | 68/112 [01:45<01:08,  1.56s/it]"
     ]
    },
    {
     "name": "stdout",
     "output_type": "stream",
     "text": [
      "Positive HLA-A*02:04 - Length9: # All = 1102 | # Train = 882 | # Test = 220\n",
      "Positive HLA-A*02:04 - Length10: # All = 120 | # Train = 96 | # Test = 24\n",
      "Positive HLA-A*02:04 - Length11: # All = 114 | # Train = 91 | # Test = 23\n"
     ]
    },
    {
     "name": "stderr",
     "output_type": "stream",
     "text": [
      "\r",
      " 62%|██████▏   | 69/112 [01:46<01:05,  1.53s/it]"
     ]
    },
    {
     "name": "stdout",
     "output_type": "stream",
     "text": [
      "Positive HLA-B*35:08 - Length9: # All = 775 | # Train = 620 | # Test = 155\n",
      "Positive HLA-B*35:08 - Length10: # All = 184 | # Train = 147 | # Test = 37\n",
      "Positive HLA-B*35:08 - Length11: # All = 106 | # Train = 85 | # Test = 21\n"
     ]
    },
    {
     "name": "stderr",
     "output_type": "stream",
     "text": [
      "\r",
      " 62%|██████▎   | 70/112 [01:48<01:05,  1.56s/it]"
     ]
    },
    {
     "name": "stdout",
     "output_type": "stream",
     "text": [
      "Positive HLA-A*02:02 - Length9: # All = 1208 | # Train = 966 | # Test = 242\n",
      "Positive HLA-A*02:02 - Length10: # All = 796 | # Train = 637 | # Test = 159\n"
     ]
    },
    {
     "name": "stderr",
     "output_type": "stream",
     "text": [
      "\r",
      " 63%|██████▎   | 71/112 [01:50<01:02,  1.53s/it]"
     ]
    },
    {
     "name": "stdout",
     "output_type": "stream",
     "text": [
      "Positive HLA-B*39:24 - Length8: # All = 99 | # Train = 79 | # Test = 20\n",
      "Positive HLA-B*39:24 - Length9: # All = 388 | # Train = 310 | # Test = 78\n"
     ]
    },
    {
     "name": "stderr",
     "output_type": "stream",
     "text": [
      "\r",
      " 64%|██████▍   | 72/112 [01:51<01:00,  1.51s/it]"
     ]
    },
    {
     "name": "stdout",
     "output_type": "stream",
     "text": [
      "Positive HLA-B*45:06 - Length9: # All = 280 | # Train = 224 | # Test = 56\n"
     ]
    },
    {
     "name": "stderr",
     "output_type": "stream",
     "text": [
      "\r",
      " 65%|██████▌   | 73/112 [01:53<01:00,  1.55s/it]"
     ]
    },
    {
     "name": "stdout",
     "output_type": "stream",
     "text": [
      "Positive HLA-B*50:01 - Length9: # All = 1256 | # Train = 1005 | # Test = 251\n",
      "Positive HLA-B*50:01 - Length10: # All = 171 | # Train = 137 | # Test = 34\n"
     ]
    },
    {
     "name": "stderr",
     "output_type": "stream",
     "text": [
      "\r",
      " 66%|██████▌   | 74/112 [01:54<00:58,  1.54s/it]"
     ]
    },
    {
     "name": "stdout",
     "output_type": "stream",
     "text": [
      "Positive HLA-B*41:01 - Length9: # All = 433 | # Train = 346 | # Test = 87\n",
      "Positive HLA-B*41:01 - Length10: # All = 62 | # Train = 50 | # Test = 12\n"
     ]
    },
    {
     "name": "stderr",
     "output_type": "stream",
     "text": [
      "\r",
      " 67%|██████▋   | 75/112 [01:56<00:56,  1.54s/it]"
     ]
    },
    {
     "name": "stdout",
     "output_type": "stream",
     "text": [
      "Positive HLA-A*23:01 - Length9: # All = 2433 | # Train = 1946 | # Test = 487\n",
      "Positive HLA-A*23:01 - Length10: # All = 472 | # Train = 378 | # Test = 94\n",
      "Positive HLA-A*23:01 - Length11: # All = 103 | # Train = 82 | # Test = 21\n"
     ]
    },
    {
     "name": "stderr",
     "output_type": "stream",
     "text": [
      "\r",
      " 68%|██████▊   | 76/112 [01:57<00:55,  1.54s/it]"
     ]
    },
    {
     "name": "stdout",
     "output_type": "stream",
     "text": [
      "Positive HLA-A*32:01 - Length9: # All = 2741 | # Train = 2193 | # Test = 548\n",
      "Positive HLA-A*32:01 - Length10: # All = 458 | # Train = 366 | # Test = 92\n",
      "Positive HLA-A*32:01 - Length11: # All = 197 | # Train = 158 | # Test = 39\n"
     ]
    },
    {
     "name": "stderr",
     "output_type": "stream",
     "text": [
      "\r",
      " 69%|██████▉   | 77/112 [01:59<00:54,  1.56s/it]"
     ]
    },
    {
     "name": "stdout",
     "output_type": "stream",
     "text": [
      "Positive HLA-B*27:08 - Length9: # All = 750 | # Train = 600 | # Test = 150\n",
      "Positive HLA-B*27:08 - Length10: # All = 420 | # Train = 336 | # Test = 84\n",
      "Positive HLA-B*27:08 - Length11: # All = 294 | # Train = 235 | # Test = 59\n",
      "Positive HLA-B*27:08 - Length12: # All = 124 | # Train = 99 | # Test = 25\n",
      "Positive HLA-B*27:08 - Length13: # All = 60 | # Train = 48 | # Test = 12\n"
     ]
    },
    {
     "name": "stderr",
     "output_type": "stream",
     "text": [
      "\r",
      " 70%|██████▉   | 78/112 [02:00<00:52,  1.56s/it]"
     ]
    },
    {
     "name": "stdout",
     "output_type": "stream",
     "text": [
      "Positive HLA-B*18:01 - Length8: # All = 416 | # Train = 333 | # Test = 83\n",
      "Positive HLA-B*18:01 - Length9: # All = 1661 | # Train = 1329 | # Test = 332\n",
      "Positive HLA-B*18:01 - Length10: # All = 168 | # Train = 134 | # Test = 34\n"
     ]
    },
    {
     "name": "stderr",
     "output_type": "stream",
     "text": [
      "\r",
      " 71%|███████   | 79/112 [02:02<00:51,  1.55s/it]"
     ]
    },
    {
     "name": "stdout",
     "output_type": "stream",
     "text": [
      "Positive HLA-B*38:01 - Length9: # All = 3119 | # Train = 2495 | # Test = 624\n"
     ]
    },
    {
     "name": "stderr",
     "output_type": "stream",
     "text": [
      "\r",
      " 71%|███████▏  | 80/112 [02:04<00:49,  1.55s/it]"
     ]
    },
    {
     "name": "stdout",
     "output_type": "stream",
     "text": [
      "Positive HLA-B*54:01 - Length8: # All = 99 | # Train = 79 | # Test = 20\n",
      "Positive HLA-B*54:01 - Length9: # All = 695 | # Train = 556 | # Test = 139\n",
      "Positive HLA-B*54:01 - Length10: # All = 260 | # Train = 208 | # Test = 52\n",
      "Positive HLA-B*54:01 - Length11: # All = 117 | # Train = 94 | # Test = 23\n"
     ]
    },
    {
     "name": "stderr",
     "output_type": "stream",
     "text": [
      "\r",
      " 72%|███████▏  | 81/112 [02:05<00:47,  1.55s/it]"
     ]
    },
    {
     "name": "stdout",
     "output_type": "stream",
     "text": [
      "Positive HLA-C*07:02 - Length8: # All = 208 | # Train = 166 | # Test = 42\n",
      "Positive HLA-C*07:02 - Length9: # All = 2485 | # Train = 1988 | # Test = 497\n",
      "Positive HLA-C*07:02 - Length10: # All = 216 | # Train = 173 | # Test = 43\n",
      "Positive HLA-C*07:02 - Length11: # All = 79 | # Train = 63 | # Test = 16\n"
     ]
    },
    {
     "name": "stderr",
     "output_type": "stream",
     "text": [
      "\r",
      " 73%|███████▎  | 82/112 [02:07<00:46,  1.55s/it]"
     ]
    },
    {
     "name": "stdout",
     "output_type": "stream",
     "text": [
      "Positive HLA-C*01:02 - Length8: # All = 216 | # Train = 173 | # Test = 43\n",
      "Positive HLA-C*01:02 - Length9: # All = 1046 | # Train = 837 | # Test = 209\n",
      "Positive HLA-C*01:02 - Length10: # All = 324 | # Train = 259 | # Test = 65\n",
      "Positive HLA-C*01:02 - Length11: # All = 175 | # Train = 140 | # Test = 35\n",
      "Positive HLA-C*01:02 - Length12: # All = 161 | # Train = 129 | # Test = 32\n"
     ]
    },
    {
     "name": "stderr",
     "output_type": "stream",
     "text": [
      "\r",
      " 74%|███████▍  | 83/112 [02:08<00:45,  1.55s/it]"
     ]
    },
    {
     "name": "stdout",
     "output_type": "stream",
     "text": [
      "Positive HLA-A*66:01 - Length9: # All = 74 | # Train = 59 | # Test = 15\n"
     ]
    },
    {
     "name": "stderr",
     "output_type": "stream",
     "text": [
      "\r",
      " 75%|███████▌  | 84/112 [02:10<00:43,  1.54s/it]"
     ]
    },
    {
     "name": "stdout",
     "output_type": "stream",
     "text": [
      "Positive HLA-B*45:01 - Length9: # All = 1713 | # Train = 1370 | # Test = 343\n",
      "Positive HLA-B*45:01 - Length10: # All = 431 | # Train = 345 | # Test = 86\n",
      "Positive HLA-B*45:01 - Length11: # All = 124 | # Train = 99 | # Test = 25\n"
     ]
    },
    {
     "name": "stderr",
     "output_type": "stream",
     "text": [
      "\r",
      " 76%|███████▌  | 85/112 [02:11<00:41,  1.54s/it]"
     ]
    },
    {
     "name": "stdout",
     "output_type": "stream",
     "text": [
      "Positive HLA-A*02:20 - Length9: # All = 802 | # Train = 642 | # Test = 160\n"
     ]
    },
    {
     "name": "stderr",
     "output_type": "stream",
     "text": [
      "\r",
      " 77%|███████▋  | 86/112 [02:13<00:39,  1.54s/it]"
     ]
    },
    {
     "name": "stdout",
     "output_type": "stream",
     "text": [
      "Positive HLA-B*27:02 - Length9: # All = 1025 | # Train = 820 | # Test = 205\n",
      "Positive HLA-B*27:02 - Length10: # All = 720 | # Train = 576 | # Test = 144\n",
      "Positive HLA-B*27:02 - Length11: # All = 465 | # Train = 372 | # Test = 93\n",
      "Positive HLA-B*27:02 - Length12: # All = 233 | # Train = 186 | # Test = 47\n",
      "Positive HLA-B*27:02 - Length13: # All = 107 | # Train = 86 | # Test = 21\n"
     ]
    },
    {
     "name": "stderr",
     "output_type": "stream",
     "text": [
      "\r",
      " 78%|███████▊  | 87/112 [02:14<00:38,  1.55s/it]"
     ]
    },
    {
     "name": "stdout",
     "output_type": "stream",
     "text": [
      "Positive HLA-B*14:01 - Length9: # All = 76 | # Train = 61 | # Test = 15\n"
     ]
    },
    {
     "name": "stderr",
     "output_type": "stream",
     "text": [
      "\r",
      " 79%|███████▊  | 88/112 [02:16<00:36,  1.54s/it]"
     ]
    },
    {
     "name": "stdout",
     "output_type": "stream",
     "text": [
      "Positive HLA-C*08:02 - Length8: # All = 648 | # Train = 518 | # Test = 130\n",
      "Positive HLA-C*08:02 - Length9: # All = 3928 | # Train = 3142 | # Test = 786\n",
      "Positive HLA-C*08:02 - Length10: # All = 446 | # Train = 357 | # Test = 89\n",
      "Positive HLA-C*08:02 - Length11: # All = 116 | # Train = 93 | # Test = 23\n"
     ]
    },
    {
     "name": "stderr",
     "output_type": "stream",
     "text": [
      "\r",
      " 79%|███████▉  | 89/112 [02:17<00:35,  1.55s/it]"
     ]
    },
    {
     "name": "stdout",
     "output_type": "stream",
     "text": [
      "Positive HLA-C*05:01 - Length8: # All = 574 | # Train = 459 | # Test = 115\n",
      "Positive HLA-C*05:01 - Length9: # All = 2928 | # Train = 2342 | # Test = 586\n",
      "Positive HLA-C*05:01 - Length10: # All = 468 | # Train = 374 | # Test = 94\n",
      "Positive HLA-C*05:01 - Length11: # All = 236 | # Train = 189 | # Test = 47\n",
      "Positive HLA-C*05:01 - Length12: # All = 76 | # Train = 61 | # Test = 15\n",
      "Positive HLA-C*05:01 - Length13: # All = 60 | # Train = 48 | # Test = 12\n"
     ]
    },
    {
     "name": "stderr",
     "output_type": "stream",
     "text": [
      "\r",
      " 80%|████████  | 90/112 [02:19<00:34,  1.57s/it]"
     ]
    },
    {
     "name": "stdout",
     "output_type": "stream",
     "text": [
      "Positive HLA-C*05:01 - Length14: # All = 63 | # Train = 50 | # Test = 13\n",
      "Positive HLA-A*02:07 - Length9: # All = 1946 | # Train = 1557 | # Test = 389\n",
      "Positive HLA-A*02:07 - Length10: # All = 364 | # Train = 291 | # Test = 73\n",
      "Positive HLA-A*02:07 - Length11: # All = 300 | # Train = 240 | # Test = 60\n"
     ]
    },
    {
     "name": "stderr",
     "output_type": "stream",
     "text": [
      "\r",
      " 81%|████████▏ | 91/112 [02:21<00:32,  1.57s/it]"
     ]
    },
    {
     "name": "stdout",
     "output_type": "stream",
     "text": [
      "Positive HLA-B*51:01 - Length8: # All = 884 | # Train = 707 | # Test = 177\n",
      "Positive HLA-B*51:01 - Length9: # All = 2724 | # Train = 2179 | # Test = 545\n",
      "Positive HLA-B*51:01 - Length10: # All = 652 | # Train = 522 | # Test = 130\n",
      "Positive HLA-B*51:01 - Length11: # All = 357 | # Train = 286 | # Test = 71\n",
      "Positive HLA-B*51:01 - Length12: # All = 281 | # Train = 225 | # Test = 56\n",
      "Positive HLA-B*51:01 - Length13: # All = 76 | # Train = 61 | # Test = 15\n"
     ]
    },
    {
     "name": "stderr",
     "output_type": "stream",
     "text": [
      "\r",
      " 82%|████████▏ | 92/112 [02:22<00:31,  1.58s/it]"
     ]
    },
    {
     "name": "stdout",
     "output_type": "stream",
     "text": [
      "Positive HLA-A*26:02 - Length9: # All = 188 | # Train = 150 | # Test = 38\n"
     ]
    },
    {
     "name": "stderr",
     "output_type": "stream",
     "text": [
      "\r",
      " 83%|████████▎ | 93/112 [02:24<00:29,  1.56s/it]"
     ]
    },
    {
     "name": "stdout",
     "output_type": "stream",
     "text": [
      "Positive HLA-B*15:02 - Length9: # All = 211 | # Train = 169 | # Test = 42\n"
     ]
    },
    {
     "name": "stderr",
     "output_type": "stream",
     "text": [
      "\r",
      " 84%|████████▍ | 94/112 [02:25<00:27,  1.54s/it]"
     ]
    },
    {
     "name": "stdout",
     "output_type": "stream",
     "text": [
      "Positive HLA-A*30:02 - Length9: # All = 563 | # Train = 450 | # Test = 113\n",
      "Positive HLA-A*30:02 - Length10: # All = 282 | # Train = 226 | # Test = 56\n"
     ]
    },
    {
     "name": "stderr",
     "output_type": "stream",
     "text": [
      "\r",
      " 85%|████████▍ | 95/112 [02:27<00:26,  1.54s/it]"
     ]
    },
    {
     "name": "stdout",
     "output_type": "stream",
     "text": [
      "Positive HLA-B*07:02 - Length8: # All = 723 | # Train = 578 | # Test = 145\n",
      "Positive HLA-B*07:02 - Length9: # All = 8205 | # Train = 6564 | # Test = 1641\n",
      "Positive HLA-B*07:02 - Length10: # All = 2141 | # Train = 1713 | # Test = 428\n",
      "Positive HLA-B*07:02 - Length11: # All = 1084 | # Train = 867 | # Test = 217\n",
      "Positive HLA-B*07:02 - Length12: # All = 436 | # Train = 349 | # Test = 87\n",
      "Positive HLA-B*07:02 - Length13: # All = 256 | # Train = 205 | # Test = 51\n"
     ]
    },
    {
     "name": "stderr",
     "output_type": "stream",
     "text": [
      "\r",
      " 86%|████████▌ | 96/112 [02:28<00:25,  1.58s/it]"
     ]
    },
    {
     "name": "stdout",
     "output_type": "stream",
     "text": [
      "Positive HLA-B*07:02 - Length14: # All = 138 | # Train = 110 | # Test = 28\n",
      "Positive HLA-C*07:01 - Length8: # All = 177 | # Train = 142 | # Test = 35\n",
      "Positive HLA-C*07:01 - Length9: # All = 2843 | # Train = 2274 | # Test = 569\n",
      "Positive HLA-C*07:01 - Length10: # All = 317 | # Train = 254 | # Test = 63\n",
      "Positive HLA-C*07:01 - Length11: # All = 161 | # Train = 129 | # Test = 32\n",
      "Positive HLA-C*07:01 - Length12: # All = 143 | # Train = 114 | # Test = 29\n"
     ]
    },
    {
     "name": "stderr",
     "output_type": "stream",
     "text": [
      "\r",
      " 87%|████████▋ | 97/112 [02:30<00:23,  1.57s/it]"
     ]
    },
    {
     "name": "stdout",
     "output_type": "stream",
     "text": [
      "Positive HLA-B*39:06 - Length9: # All = 1263 | # Train = 1010 | # Test = 253\n"
     ]
    },
    {
     "name": "stderr",
     "output_type": "stream",
     "text": [
      "\r",
      " 88%|████████▊ | 98/112 [02:32<00:21,  1.56s/it]"
     ]
    },
    {
     "name": "stdout",
     "output_type": "stream",
     "text": [
      "Positive HLA-B*14:02 - Length8: # All = 421 | # Train = 337 | # Test = 84\n",
      "Positive HLA-B*14:02 - Length9: # All = 2619 | # Train = 2095 | # Test = 524\n",
      "Positive HLA-B*14:02 - Length10: # All = 154 | # Train = 123 | # Test = 31\n"
     ]
    },
    {
     "name": "stderr",
     "output_type": "stream",
     "text": [
      "\r",
      " 88%|████████▊ | 99/112 [02:33<00:20,  1.55s/it]"
     ]
    },
    {
     "name": "stdout",
     "output_type": "stream",
     "text": [
      "Positive HLA-C*02:02 - Length8: # All = 95 | # Train = 76 | # Test = 19\n",
      "Positive HLA-C*02:02 - Length9: # All = 4128 | # Train = 3302 | # Test = 826\n",
      "Positive HLA-C*02:02 - Length10: # All = 491 | # Train = 393 | # Test = 98\n",
      "Positive HLA-C*02:02 - Length11: # All = 101 | # Train = 81 | # Test = 20\n"
     ]
    },
    {
     "name": "stderr",
     "output_type": "stream",
     "text": [
      "\r",
      " 89%|████████▉ | 100/112 [02:35<00:18,  1.56s/it]"
     ]
    },
    {
     "name": "stdout",
     "output_type": "stream",
     "text": [
      "Positive HLA-B*15:42 - Length9: # All = 283 | # Train = 226 | # Test = 57\n"
     ]
    },
    {
     "name": "stderr",
     "output_type": "stream",
     "text": [
      "\r",
      " 90%|█████████ | 101/112 [02:36<00:17,  1.57s/it]"
     ]
    },
    {
     "name": "stdout",
     "output_type": "stream",
     "text": [
      "Positive HLA-A*11:01 - Length8: # All = 68 | # Train = 54 | # Test = 14\n",
      "Positive HLA-A*11:01 - Length9: # All = 5409 | # Train = 4327 | # Test = 1082\n",
      "Positive HLA-A*11:01 - Length10: # All = 2352 | # Train = 1882 | # Test = 470\n",
      "Positive HLA-A*11:01 - Length11: # All = 930 | # Train = 744 | # Test = 186\n",
      "Positive HLA-A*11:01 - Length12: # All = 244 | # Train = 195 | # Test = 49\n",
      "Positive HLA-A*11:01 - Length13: # All = 70 | # Train = 56 | # Test = 14\n"
     ]
    },
    {
     "name": "stderr",
     "output_type": "stream",
     "text": [
      "\r",
      " 91%|█████████ | 102/112 [02:38<00:15,  1.57s/it]"
     ]
    },
    {
     "name": "stdout",
     "output_type": "stream",
     "text": [
      "Positive HLA-A*01:01 - Length8: # All = 267 | # Train = 214 | # Test = 53\n",
      "Positive HLA-A*01:01 - Length9: # All = 4173 | # Train = 3338 | # Test = 835\n",
      "Positive HLA-A*01:01 - Length10: # All = 1787 | # Train = 1430 | # Test = 357\n",
      "Positive HLA-A*01:01 - Length11: # All = 922 | # Train = 738 | # Test = 184\n",
      "Positive HLA-A*01:01 - Length12: # All = 688 | # Train = 550 | # Test = 138\n",
      "Positive HLA-A*01:01 - Length13: # All = 436 | # Train = 349 | # Test = 87\n"
     ]
    },
    {
     "name": "stderr",
     "output_type": "stream",
     "text": [
      "\r",
      " 92%|█████████▏| 103/112 [02:39<00:14,  1.58s/it]"
     ]
    },
    {
     "name": "stdout",
     "output_type": "stream",
     "text": [
      "Positive HLA-A*01:01 - Length14: # All = 204 | # Train = 163 | # Test = 41\n",
      "Positive HLA-B*27:04 - Length9: # All = 1653 | # Train = 1322 | # Test = 331\n",
      "Positive HLA-B*27:04 - Length10: # All = 236 | # Train = 189 | # Test = 47\n",
      "Positive HLA-B*27:04 - Length11: # All = 103 | # Train = 82 | # Test = 21\n"
     ]
    },
    {
     "name": "stderr",
     "output_type": "stream",
     "text": [
      "\r",
      " 93%|█████████▎| 104/112 [02:41<00:12,  1.56s/it]"
     ]
    },
    {
     "name": "stdout",
     "output_type": "stream",
     "text": [
      "Positive HLA-C*07:04 - Length8: # All = 76 | # Train = 61 | # Test = 15\n",
      "Positive HLA-C*07:04 - Length9: # All = 2179 | # Train = 1743 | # Test = 436\n",
      "Positive HLA-C*07:04 - Length10: # All = 126 | # Train = 101 | # Test = 25\n"
     ]
    },
    {
     "name": "stderr",
     "output_type": "stream",
     "text": [
      "\r",
      " 94%|█████████▍| 105/112 [02:42<00:10,  1.56s/it]"
     ]
    },
    {
     "name": "stdout",
     "output_type": "stream",
     "text": [
      "Positive HLA-B*44:27 - Length10: # All = 54 | # Train = 43 | # Test = 11\n"
     ]
    },
    {
     "name": "stderr",
     "output_type": "stream",
     "text": [
      "\r",
      " 95%|█████████▍| 106/112 [02:44<00:09,  1.54s/it]"
     ]
    },
    {
     "name": "stdout",
     "output_type": "stream",
     "text": [
      "Positive HLA-A*80:01 - Length9: # All = 142 | # Train = 114 | # Test = 28\n"
     ]
    },
    {
     "name": "stderr",
     "output_type": "stream",
     "text": [
      "\r",
      " 96%|█████████▌| 107/112 [02:45<00:07,  1.53s/it]"
     ]
    },
    {
     "name": "stdout",
     "output_type": "stream",
     "text": [
      "Positive HLA-A*02:50 - Length9: # All = 71 | # Train = 57 | # Test = 14\n"
     ]
    },
    {
     "name": "stderr",
     "output_type": "stream",
     "text": [
      "\r",
      " 96%|█████████▋| 108/112 [02:47<00:06,  1.55s/it]"
     ]
    },
    {
     "name": "stdout",
     "output_type": "stream",
     "text": [
      "Positive HLA-B*40:01 - Length8: # All = 81 | # Train = 65 | # Test = 16\n",
      "Positive HLA-B*40:01 - Length9: # All = 2868 | # Train = 2294 | # Test = 574\n",
      "Positive HLA-B*40:01 - Length10: # All = 900 | # Train = 720 | # Test = 180\n",
      "Positive HLA-B*40:01 - Length11: # All = 438 | # Train = 350 | # Test = 88\n",
      "Positive HLA-B*40:01 - Length12: # All = 122 | # Train = 98 | # Test = 24\n"
     ]
    },
    {
     "name": "stderr",
     "output_type": "stream",
     "text": [
      "\r",
      " 97%|█████████▋| 109/112 [02:49<00:04,  1.55s/it]"
     ]
    },
    {
     "name": "stdout",
     "output_type": "stream",
     "text": [
      "Positive HLA-B*73:01 - Length9: # All = 408 | # Train = 326 | # Test = 82\n"
     ]
    },
    {
     "name": "stderr",
     "output_type": "stream",
     "text": [
      "\r",
      " 98%|█████████▊| 110/112 [02:50<00:03,  1.53s/it]"
     ]
    },
    {
     "name": "stdout",
     "output_type": "stream",
     "text": [
      "Positive HLA-C*03:04 - Length8: # All = 226 | # Train = 181 | # Test = 45\n",
      "Positive HLA-C*03:04 - Length9: # All = 3374 | # Train = 2699 | # Test = 675\n",
      "Positive HLA-C*03:04 - Length10: # All = 324 | # Train = 259 | # Test = 65\n",
      "Positive HLA-C*03:04 - Length11: # All = 99 | # Train = 79 | # Test = 20\n"
     ]
    },
    {
     "name": "stderr",
     "output_type": "stream",
     "text": [
      "\r",
      " 99%|█████████▉| 111/112 [02:52<00:01,  1.54s/it]"
     ]
    },
    {
     "name": "stdout",
     "output_type": "stream",
     "text": [
      "Positive HLA-C*14:02 - Length8: # All = 388 | # Train = 310 | # Test = 78\n",
      "Positive HLA-C*14:02 - Length9: # All = 1462 | # Train = 1170 | # Test = 292\n",
      "Positive HLA-C*14:02 - Length10: # All = 253 | # Train = 202 | # Test = 51\n"
     ]
    },
    {
     "name": "stderr",
     "output_type": "stream",
     "text": [
      "100%|██████████| 112/112 [02:53<00:00,  1.55s/it]\n"
     ]
    },
    {
     "name": "stdout",
     "output_type": "stream",
     "text": [
      "Counter({1: 287329, 0: 287329}) Counter({1: 71837, 0: 71837})\n",
      "Counter({1: 287329, 0: 287329}) Counter({1: 71837, 0: 71837})\n",
      "Counter({1: 287329, 0: 287329}) Counter({1: 71837, 0: 71837})\n",
      "Counter({1: 287329, 0: 287329}) Counter({1: 71837, 0: 71837})\n",
      "Counter({1: 287348, 0: 287348}) Counter({1: 71818, 0: 71818})\n"
     ]
    },
    {
     "ename": "NameError",
     "evalue": "name 'fold' is not defined",
     "output_type": "error",
     "traceback": [
      "\u001b[0;31m---------------------------------------------------------------------------\u001b[0m",
      "\u001b[0;31mNameError\u001b[0m                                 Traceback (most recent call last)",
      "\u001b[0;32m<ipython-input-12-8c6ab381b036>\u001b[0m in \u001b[0;36m<module>\u001b[0;34m\u001b[0m\n\u001b[1;32m      1\u001b[0m \u001b[0mtrain_data_cv_idx_dict\u001b[0m\u001b[0;34m,\u001b[0m \u001b[0mval_data_cv_idx_dict\u001b[0m \u001b[0;34m=\u001b[0m \u001b[0mtrain_set_cv_fold_index\u001b[0m\u001b[0;34m(\u001b[0m\u001b[0mtrain_set\u001b[0m\u001b[0;34m)\u001b[0m\u001b[0;34m\u001b[0m\u001b[0;34m\u001b[0m\u001b[0m\n\u001b[1;32m      2\u001b[0m \u001b[0;32mfor\u001b[0m \u001b[0mi\u001b[0m \u001b[0;32min\u001b[0m \u001b[0mrange\u001b[0m\u001b[0;34m(\u001b[0m\u001b[0;36m5\u001b[0m\u001b[0;34m)\u001b[0m\u001b[0;34m:\u001b[0m\u001b[0;34m\u001b[0m\u001b[0;34m\u001b[0m\u001b[0m\n\u001b[0;32m----> 3\u001b[0;31m     \u001b[0msave_trainset_cvdata\u001b[0m\u001b[0;34m(\u001b[0m\u001b[0mtrain_set\u001b[0m\u001b[0;34m,\u001b[0m \u001b[0mtrain_data_cv_idx_dict\u001b[0m\u001b[0;34m,\u001b[0m \u001b[0mval_data_cv_idx_dict\u001b[0m\u001b[0;34m,\u001b[0m \u001b[0mfold\u001b[0m\u001b[0;34m,\u001b[0m \u001b[0msavepath\u001b[0m \u001b[0;34m=\u001b[0m \u001b[0;32mTrue\u001b[0m\u001b[0;34m)\u001b[0m\u001b[0;34m\u001b[0m\u001b[0;34m\u001b[0m\u001b[0m\n\u001b[0m",
      "\u001b[0;31mNameError\u001b[0m: name 'fold' is not defined"
     ]
    }
   ],
   "source": [
    "train_data_cv_idx_dict, val_data_cv_idx_dict = train_set_cv_fold_index(train_set)"
   ]
  },
  {
   "cell_type": "code",
   "execution_count": 13,
   "metadata": {
    "collapsed": true
   },
   "outputs": [],
   "source": [
    "for fold in range(5):\n",
    "    save_trainset_cvdata(train_set, train_data_cv_idx_dict, val_data_cv_idx_dict, fold, savepath = True)"
   ]
  },
  {
   "cell_type": "code",
   "execution_count": 14,
   "metadata": {},
   "outputs": [
    {
     "data": {
      "text/plain": [
       "Counter({0: 71837, 1: 71837})"
      ]
     },
     "execution_count": 14,
     "metadata": {},
     "output_type": "execute_result"
    }
   ],
   "source": [
    "Counter(pd.read_csv('/home/chujunyi/5_ZY_MHC/Anthem/Dataset/val_data_fold0.csv', index_col = 0).label)"
   ]
  }
 ],
 "metadata": {
  "kernelspec": {
   "display_name": "torch_gpu",
   "language": "python",
   "name": "torch_gpu"
  },
  "language_info": {
   "codemirror_mode": {
    "name": "ipython",
    "version": 3
   },
   "file_extension": ".py",
   "mimetype": "text/x-python",
   "name": "python",
   "nbconvert_exporter": "python",
   "pygments_lexer": "ipython3",
   "version": "3.7.8"
  }
 },
 "nbformat": 4,
 "nbformat_minor": 2
}
